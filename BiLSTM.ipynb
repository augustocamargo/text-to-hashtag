{
 "cells": [
  {
   "cell_type": "code",
   "execution_count": 1,
   "metadata": {
    "gather": {
     "logged": 1606780189582
    }
   },
   "outputs": [
    {
     "name": "stdout",
     "output_type": "stream",
     "text": [
      "Sun Dec 20 09:20:29 2020       \n",
      "+-----------------------------------------------------------------------------+\n",
      "| NVIDIA-SMI 455.32.00    Driver Version: 455.32.00    CUDA Version: 11.1     |\n",
      "|-------------------------------+----------------------+----------------------+\n",
      "| GPU  Name        Persistence-M| Bus-Id        Disp.A | Volatile Uncorr. ECC |\n",
      "| Fan  Temp  Perf  Pwr:Usage/Cap|         Memory-Usage | GPU-Util  Compute M. |\n",
      "|                               |                      |               MIG M. |\n",
      "|===============================+======================+======================|\n",
      "|   0  Tesla K80           On   | 00000001:00:00.0 Off |                    0 |\n",
      "| N/A   63C    P0    60W / 149W |    750MiB / 11441MiB |      0%      Default |\n",
      "|                               |                      |                  N/A |\n",
      "+-------------------------------+----------------------+----------------------+\n",
      "                                                                               \n",
      "+-----------------------------------------------------------------------------+\n",
      "| Processes:                                                                  |\n",
      "|  GPU   GI   CI        PID   Type   Process name                  GPU Memory |\n",
      "|        ID   ID                                                   Usage      |\n",
      "|=============================================================================|\n",
      "|    0   N/A  N/A     23524      C   ...conda/envs/ep3/bin/python      745MiB |\n",
      "+-----------------------------------------------------------------------------+\n"
     ]
    }
   ],
   "source": [
    "!nvidia-smi"
   ]
  },
  {
   "cell_type": "code",
   "execution_count": 2,
   "metadata": {
    "colab": {},
    "colab_type": "code",
    "gather": {
     "logged": 1608456038102
    },
    "id": "AESHaivdF9UN"
   },
   "outputs": [
    {
     "name": "stderr",
     "output_type": "stream",
     "text": [
      "[nltk_data] Downloading package wordnet to\n",
      "[nltk_data]     /home/azureuser/nltk_data...\n",
      "[nltk_data]   Package wordnet is already up-to-date!\n"
     ]
    }
   ],
   "source": [
    "import tensorflow as tf\n",
    "import pandas as pd\n",
    "from sklearn.model_selection import train_test_split\n",
    "import string\n",
    "from string import digits\n",
    "import re\n",
    "from sklearn.utils import shuffle\n",
    "from tensorflow.keras.preprocessing.sequence import pad_sequences\n",
    "from tensorflow.keras.layers import LSTM, Input, Dense,Embedding, Concatenate, TimeDistributed, Attention,Bidirectional\n",
    "from tensorflow.keras.models import Model,load_model, model_from_json\n",
    "from tensorflow.keras.utils import plot_model\n",
    "from tensorflow.keras.preprocessing.text import one_hot, Tokenizer\n",
    "from tensorflow.keras.callbacks import EarlyStopping\n",
    "from attention import AttentionLayer\n",
    "import pickle as pkl\n",
    "import numpy as np\n",
    "from unidecode import unidecode\n",
    "import nltk\n",
    "from nltk.translate.bleu_score import SmoothingFunction, sentence_bleu, corpus_bleu\n",
    "from nltk.translate.nist_score import sentence_nist, corpus_nist\n",
    "from nltk.translate.meteor_score import meteor_score\n",
    "import sys\n",
    "nltk.download('wordnet')\n",
    "import matplotlib.pyplot as plt\n",
    "import pickle\n",
    "from datetime import datetime\n",
    "import matplotlib.ticker as ticker\n",
    "from wordcloud import WordCloud"
   ]
  },
  {
   "cell_type": "code",
   "execution_count": 3,
   "metadata": {
    "collapsed": true,
    "gather": {
     "logged": 1608456038340
    },
    "jupyter": {
     "outputs_hidden": true,
     "source_hidden": false
    },
    "nteract": {
     "transient": {
      "deleting": false
     }
    }
   },
   "outputs": [],
   "source": [
    "#tomada de tempo de excução\n",
    "runStart = datetime.now()"
   ]
  },
  {
   "cell_type": "code",
   "execution_count": 4,
   "metadata": {
    "collapsed": true,
    "gather": {
     "logged": 1608456038566
    },
    "jupyter": {
     "outputs_hidden": true,
     "source_hidden": false
    },
    "nteract": {
     "transient": {
      "deleting": false
     }
    }
   },
   "outputs": [],
   "source": [
    "#\n",
    "# MODO DE EXECUÇÃO DO NOTEBOOK\n",
    "#\n",
    "# Para evitar consumo de máquina e tempo este notebook pode ser executado de duas formas.\n",
    "#\n",
    "# False = usa pesos e outros parâmetros salvos. Não roda otimizações, usa do modelo\n",
    "#       ja salvo, mas roda cálculos e gráficos.\n",
    "#\n",
    "# True = roda o notebook inteiro: todas otimizações, cálculos e gráficos.\n",
    "#\n",
    "#\n",
    "RUN_MODE = True"
   ]
  },
  {
   "cell_type": "code",
   "execution_count": 5,
   "metadata": {
    "collapsed": true,
    "gather": {
     "logged": 1608456043811
    },
    "jupyter": {
     "outputs_hidden": true,
     "source_hidden": false
    },
    "nteract": {
     "transient": {
      "deleting": false
     }
    }
   },
   "outputs": [
    {
     "data": {
      "text/html": [
       "<div>\n",
       "<style scoped>\n",
       "    .dataframe tbody tr th:only-of-type {\n",
       "        vertical-align: middle;\n",
       "    }\n",
       "\n",
       "    .dataframe tbody tr th {\n",
       "        vertical-align: top;\n",
       "    }\n",
       "\n",
       "    .dataframe thead th {\n",
       "        text-align: right;\n",
       "    }\n",
       "</style>\n",
       "<table border=\"1\" class=\"dataframe\">\n",
       "  <thead>\n",
       "    <tr style=\"text-align: right;\">\n",
       "      <th></th>\n",
       "      <th>title</th>\n",
       "      <th>review</th>\n",
       "    </tr>\n",
       "  </thead>\n",
       "  <tbody>\n",
       "    <tr>\n",
       "      <th>0</th>\n",
       "      <td>bom</td>\n",
       "      <td>estou contente com a compra entrega rápida o ú...</td>\n",
       "    </tr>\n",
       "    <tr>\n",
       "      <th>1</th>\n",
       "      <td>preço imbatível, ótima qualidade</td>\n",
       "      <td>por apenas r$1994.20,eu consegui comprar esse ...</td>\n",
       "    </tr>\n",
       "    <tr>\n",
       "      <th>2</th>\n",
       "      <td>atende todas as expectativa.</td>\n",
       "      <td>supera em agilidade e praticidade outras panel...</td>\n",
       "    </tr>\n",
       "    <tr>\n",
       "      <th>3</th>\n",
       "      <td>presente mais que desejado</td>\n",
       "      <td>meu filho amou! parece de verdade com tantos d...</td>\n",
       "    </tr>\n",
       "    <tr>\n",
       "      <th>4</th>\n",
       "      <td>sem duvidas, excelente</td>\n",
       "      <td>a entrega foi no prazo, as americanas estão de...</td>\n",
       "    </tr>\n",
       "  </tbody>\n",
       "</table>\n",
       "</div>"
      ],
      "text/plain": [
       "                              title  \\\n",
       "0                               bom   \n",
       "1  preço imbatível, ótima qualidade   \n",
       "2      atende todas as expectativa.   \n",
       "3        presente mais que desejado   \n",
       "4            sem duvidas, excelente   \n",
       "\n",
       "                                              review  \n",
       "0  estou contente com a compra entrega rápida o ú...  \n",
       "1  por apenas r$1994.20,eu consegui comprar esse ...  \n",
       "2  supera em agilidade e praticidade outras panel...  \n",
       "3  meu filho amou! parece de verdade com tantos d...  \n",
       "4  a entrega foi no prazo, as americanas estão de...  "
      ]
     },
     "execution_count": 5,
     "metadata": {},
     "output_type": "execute_result"
    }
   ],
   "source": [
    "#Importação do CORPUS no mesmo diz local no formato tsv\n",
    "b2wCorpus = pd.read_csv('b2wCorpusFull.tsv',\"\\t\",usecols=['review_title','review_text'], encoding='utf-8') #,nrows=10000)\n",
    "b2wCorpus = b2wCorpus.rename(columns={'review_title': 'title', 'review_text': 'review'})\n",
    "b2wCorpus.head()"
   ]
  },
  {
   "cell_type": "code",
   "execution_count": 6,
   "metadata": {
    "collapsed": true,
    "gather": {
     "logged": 1608456044050
    },
    "jupyter": {
     "outputs_hidden": true,
     "source_hidden": false
    },
    "nteract": {
     "transient": {
      "deleting": false
     }
    }
   },
   "outputs": [],
   "source": [
    "# Pré-processamento\r\n",
    "def cleanning(text, stem=False):\r\n",
    "  text = text.replace(\"@\",\" \")\r\n",
    "  text = re.sub('[*)@#%(&$_^~]', '', text)\r\n",
    "  text = re.sub(r'([?!.])\\1+', r'\\1', text)\r\n",
    "  text = re.sub(r\"([?.!,¿])\", r\" \\1 \", text)\r\n",
    "  text = re.sub(r'[\" \"]+', \" \", text)\r\n",
    "  text = re.sub(\"\\d+\", \"\", text).strip()\r\n",
    "  return text"
   ]
  },
  {
   "cell_type": "code",
   "execution_count": 7,
   "metadata": {
    "collapsed": true,
    "gather": {
     "logged": 1608456050273
    },
    "jupyter": {
     "outputs_hidden": true,
     "source_hidden": false
    },
    "nteract": {
     "transient": {
      "deleting": false
     }
    }
   },
   "outputs": [
    {
     "data": {
      "text/plain": [
       "(129601, 2)"
      ]
     },
     "execution_count": 7,
     "metadata": {},
     "output_type": "execute_result"
    }
   ],
   "source": [
    "b2wCorpus.review = b2wCorpus.review.apply(lambda x: cleanning(x))\r\n",
    "b2wCorpus.title = b2wCorpus.title.apply(lambda x: cleanning(x))\r\n",
    "b2wCorpus.drop_duplicates(subset=['review'], inplace=True)\r\n",
    "b2wCorpus.dropna(axis=0,inplace=True)\r\n",
    "b2wCorpus.shape"
   ]
  },
  {
   "cell_type": "code",
   "execution_count": 8,
   "metadata": {
    "collapsed": true,
    "gather": {
     "logged": 1608456050988
    },
    "jupyter": {
     "outputs_hidden": true,
     "source_hidden": false
    },
    "nteract": {
     "transient": {
      "deleting": false
     }
    }
   },
   "outputs": [],
   "source": [
    "# Recorte do corpus baseado no max_length_review e no max_length_title\r\n",
    "max_length_review = 60\r\n",
    "max_length_title = 10\r\n",
    "def tamanho(text):\r\n",
    "    return len(text.split())\r\n",
    "b2wCorpus = b2wCorpus[b2wCorpus['review'].apply(tamanho) > 3]\r\n",
    "b2wCorpus = b2wCorpus[b2wCorpus['review'].apply(tamanho) <= max_length_review]\r\n",
    "b2wCorpus = b2wCorpus[b2wCorpus['title'].apply(tamanho) > 0 ]\r\n",
    "b2wCorpus = b2wCorpus[b2wCorpus['title'].apply(tamanho) <= max_length_title]"
   ]
  },
  {
   "cell_type": "code",
   "execution_count": 9,
   "metadata": {
    "collapsed": true,
    "gather": {
     "logged": 1608456051224
    },
    "jupyter": {
     "outputs_hidden": true,
     "source_hidden": false
    },
    "nteract": {
     "transient": {
      "deleting": false
     }
    }
   },
   "outputs": [
    {
     "data": {
      "text/plain": [
       "(116780, 2)"
      ]
     },
     "execution_count": 9,
     "metadata": {},
     "output_type": "execute_result"
    }
   ],
   "source": [
    "b2wCorpus.shape"
   ]
  },
  {
   "cell_type": "code",
   "execution_count": 10,
   "metadata": {
    "collapsed": true,
    "gather": {
     "logged": 1608456051464
    },
    "jupyter": {
     "outputs_hidden": true,
     "source_hidden": false
    },
    "nteract": {
     "transient": {
      "deleting": false
     }
    }
   },
   "outputs": [
    {
     "data": {
      "text/html": [
       "<div>\n",
       "<style scoped>\n",
       "    .dataframe tbody tr th:only-of-type {\n",
       "        vertical-align: middle;\n",
       "    }\n",
       "\n",
       "    .dataframe tbody tr th {\n",
       "        vertical-align: top;\n",
       "    }\n",
       "\n",
       "    .dataframe thead th {\n",
       "        text-align: right;\n",
       "    }\n",
       "</style>\n",
       "<table border=\"1\" class=\"dataframe\">\n",
       "  <thead>\n",
       "    <tr style=\"text-align: right;\">\n",
       "      <th></th>\n",
       "      <th>title</th>\n",
       "      <th>review</th>\n",
       "    </tr>\n",
       "  </thead>\n",
       "  <tbody>\n",
       "    <tr>\n",
       "      <th>0</th>\n",
       "      <td>bom</td>\n",
       "      <td>estou contente com a compra entrega rápida o ú...</td>\n",
       "    </tr>\n",
       "    <tr>\n",
       "      <th>1</th>\n",
       "      <td>preço imbatível , ótima qualidade</td>\n",
       "      <td>por apenas r .  , eu consegui comprar esse lin...</td>\n",
       "    </tr>\n",
       "    <tr>\n",
       "      <th>2</th>\n",
       "      <td>atende todas as expectativa .</td>\n",
       "      <td>supera em agilidade e praticidade outras panel...</td>\n",
       "    </tr>\n",
       "    <tr>\n",
       "      <th>3</th>\n",
       "      <td>presente mais que desejado</td>\n",
       "      <td>meu filho amou ! parece de verdade com tantos ...</td>\n",
       "    </tr>\n",
       "    <tr>\n",
       "      <th>4</th>\n",
       "      <td>sem duvidas , excelente</td>\n",
       "      <td>a entrega foi no prazo , as americanas estão d...</td>\n",
       "    </tr>\n",
       "  </tbody>\n",
       "</table>\n",
       "</div>"
      ],
      "text/plain": [
       "                               title  \\\n",
       "0                                bom   \n",
       "1  preço imbatível , ótima qualidade   \n",
       "2      atende todas as expectativa .   \n",
       "3         presente mais que desejado   \n",
       "4            sem duvidas , excelente   \n",
       "\n",
       "                                              review  \n",
       "0  estou contente com a compra entrega rápida o ú...  \n",
       "1  por apenas r .  , eu consegui comprar esse lin...  \n",
       "2  supera em agilidade e praticidade outras panel...  \n",
       "3  meu filho amou ! parece de verdade com tantos ...  \n",
       "4  a entrega foi no prazo , as americanas estão d...  "
      ]
     },
     "execution_count": 10,
     "metadata": {},
     "output_type": "execute_result"
    }
   ],
   "source": [
    "b2wCorpus.head()"
   ]
  },
  {
   "cell_type": "code",
   "execution_count": 11,
   "metadata": {
    "collapsed": true,
    "gather": {
     "logged": 1608456051521
    },
    "jupyter": {
     "outputs_hidden": true,
     "source_hidden": false
    },
    "nteract": {
     "transient": {
      "deleting": false
     }
    }
   },
   "outputs": [],
   "source": [
    "# Inserção das tags de <start> e <end> no title\n",
    "def start_end(itext):\n",
    "    text = \"<start> \" + itext + \" <end>\"\n",
    "    return text\n",
    "b2wCorpus.title = b2wCorpus.title.apply(lambda x: start_end(x))"
   ]
  },
  {
   "cell_type": "code",
   "execution_count": 12,
   "metadata": {
    "collapsed": true,
    "gather": {
     "logged": 1608456051760
    },
    "jupyter": {
     "outputs_hidden": true,
     "source_hidden": false
    },
    "nteract": {
     "transient": {
      "deleting": false
     }
    }
   },
   "outputs": [],
   "source": [
    "# Atualizando do index e suffling do dataframe do corpus\n",
    "b2wCorpus=b2wCorpus.sample(frac=1).reset_index(drop=True)"
   ]
  },
  {
   "cell_type": "code",
   "execution_count": 13,
   "metadata": {
    "colab": {
     "base_uri": "https://localhost:8080/",
     "height": 34
    },
    "colab_type": "code",
    "collapsed": false,
    "executionInfo": {
     "elapsed": 2537,
     "status": "ok",
     "timestamp": 1591186539742,
     "user": {
      "displayName": "Harshil Patel",
      "photoUrl": "https://lh3.googleusercontent.com/a-/AOh14GiMwKM2YrHxZU6YvAWdAY9X66fkag_YTa5dLWbuHw=s64",
      "userId": "08207288723314376958"
     },
     "user_tz": -330
    },
    "gather": {
     "logged": 1608456051815
    },
    "id": "37N5R59xG6Rb",
    "jupyter": {
     "outputs_hidden": false
    },
    "outputId": "73807b58-abd5-4c6f-a845-68b7aa26568f"
   },
   "outputs": [
    {
     "name": "stdout",
     "output_type": "stream",
     "text": [
      "\n",
      "\n",
      "title: <start> som com chiadeira <end>\n",
      "\n",
      "review: som com baixa qualidade . o barato sai caro . comprei uma jbl go ai sim otima caixa .\n",
      "\n",
      "\n",
      "title: <start> gostei muito do produto . <end>\n",
      "\n",
      "review: fácil manuseio , dói menos que a cera , arranca os pelos pela raiz , rápido , muito eficiente .\n",
      "\n",
      "\n",
      "title: <start> adorei <end>\n",
      "\n",
      "review: produto de excelente qualidade , flexível tamanho bom , meu filho amou\n",
      "\n",
      "\n",
      "title: <start> muito bom ! <end>\n",
      "\n",
      "review: recomendo ! produto bom e dentro das expectativas !\n",
      "\n",
      "\n",
      "title: <start> adorei <end>\n",
      "\n",
      "review: a única coisa que faltou foi um elástico para a máscara . no caso para fixar no rosto de criança pequena\n",
      "\n",
      "\n",
      "title: <start> tudo conforme combinado cofap original ! <end>\n",
      "\n",
      "review: tudo conforme descrição do produto original cofap . valeu a pena !\n",
      "\n",
      "\n",
      "title: <start> gostei bastante do produto <end>\n",
      "\n",
      "review: comprei esse produto , recebi em pouco tempo , com tudo certinho e bem embalado . já usei para limpar os rejuntes do meu piso e gostei .\n",
      "\n",
      "\n",
      "title: <start> não recebi o produto <end>\n",
      "\n",
      "review: não recebi o produto e não resolveram ainda meu problema\n",
      "\n",
      "\n",
      "title: <start> uso do super slim x <end>\n",
      "\n",
      "review: gostei do produto , não vi ainda essa perda toda de peso q ele promete , mais estou gostando .\n"
     ]
    }
   ],
   "source": [
    "# Print de amostra do titulo e do review\n",
    "review_text_ = b2wCorpus['review'].values\n",
    "title_text_ = b2wCorpus['title'].values\n",
    "for j in range(9):\n",
    "    print(\"\\n\\ntitle: \" + title_text_[j])\n",
    "    print(\"\\nreview: \" +  review_text_[j])"
   ]
  },
  {
   "cell_type": "code",
   "execution_count": 14,
   "metadata": {
    "collapsed": true,
    "gather": {
     "logged": 1608456052056
    },
    "jupyter": {
     "outputs_hidden": true,
     "source_hidden": false
    },
    "nteract": {
     "transient": {
      "deleting": false
     }
    }
   },
   "outputs": [],
   "source": [
    "# Função de split de dados\n",
    "def train_validate_test_split(df, train_percent=.70, validate_percent=.15, seed=42):\n",
    "    np.random.seed(seed)\n",
    "    perm = np.random.permutation(df.index)\n",
    "    m = len(df.index)\n",
    "    train_end = int(train_percent * m)\n",
    "    validate_end = int(validate_percent * m) + train_end\n",
    "    train = df.iloc[perm[:train_end]]\n",
    "    validate = df.iloc[perm[train_end:validate_end]]\n",
    "    test = df.iloc[perm[validate_end:]]\n",
    "    return train, validate, test\n",
    "\n",
    "b2wCorpusTrain, b2wCorpusValidate, b2wCorpusTest = train_validate_test_split(b2wCorpus)"
   ]
  },
  {
   "cell_type": "code",
   "execution_count": 15,
   "metadata": {
    "collapsed": true,
    "gather": {
     "logged": 1608456052298
    },
    "jupyter": {
     "outputs_hidden": true,
     "source_hidden": false
    },
    "nteract": {
     "transient": {
      "deleting": false
     }
    }
   },
   "outputs": [
    {
     "data": {
      "text/plain": [
       "(81746, 17517, 17517)"
      ]
     },
     "execution_count": 15,
     "metadata": {},
     "output_type": "execute_result"
    }
   ],
   "source": [
    "# Split\n",
    "b2wCorpusTrain, b2wCorpusValidate, b2wCorpusTest = train_validate_test_split(b2wCorpus)\n",
    "\n",
    "# Criação das séries\n",
    "# Treino, Validação e Teste\n",
    "X_train =  b2wCorpusTrain.review.values.tolist()\n",
    "y_train =  b2wCorpusTrain.title.values.tolist()\n",
    "\n",
    "X_val = b2wCorpusValidate.review.values.tolist()\n",
    "y_val = b2wCorpusValidate.title.values.tolist()\n",
    "\n",
    "X_test = b2wCorpusTest.review.values.tolist()\n",
    "y_test = b2wCorpusTest.title.values.tolist()\n",
    "\n",
    "len(X_train),len(X_val), len(X_test)\n"
   ]
  },
  {
   "cell_type": "code",
   "execution_count": 16,
   "metadata": {
    "colab": {
     "base_uri": "https://localhost:8080/",
     "height": 119
    },
    "colab_type": "code",
    "executionInfo": {
     "elapsed": 1360,
     "status": "ok",
     "timestamp": 1591244101049,
     "user": {
      "displayName": "Harshil Patel",
      "photoUrl": "https://lh3.googleusercontent.com/a-/AOh14GiMwKM2YrHxZU6YvAWdAY9X66fkag_YTa5dLWbuHw=s64",
      "userId": "08207288723314376958"
     },
     "user_tz": -330
    },
    "gather": {
     "logged": 1608456052373
    },
    "id": "ZIxnnLAUHGi6",
    "outputId": "285499cf-0c2c-403a-a3ff-d40778e1f2ae"
   },
   "outputs": [
    {
     "data": {
      "text/plain": [
       "('paguei  em cada unidade . melhor e mais duravel que qualquer outro material . ja possuia outros em casa a anos .',\n",
       " '<start> vale o preço <end>')"
      ]
     },
     "execution_count": 16,
     "metadata": {},
     "output_type": "execute_result"
    }
   ],
   "source": [
    "# Print de amostra do X e y\n",
    "X_train[10], y_train[10]"
   ]
  },
  {
   "cell_type": "code",
   "execution_count": 17,
   "metadata": {
    "collapsed": false,
    "gather": {
     "logged": 1608456081326
    },
    "jupyter": {
     "outputs_hidden": false,
     "source_hidden": false
    },
    "nteract": {
     "transient": {
      "deleting": false
     }
    }
   },
   "outputs": [
    {
     "data": {
      "image/png": "[encoded data removed]",
      "text/plain": [
       "<Figure size 432x288 with 1 Axes>"
      ]
     },
     "metadata": {
      "needs_background": "light"
     },
     "output_type": "display_data"
    },
    {
     "data": {
      "image/png": "[encoded data removed]",
      "text/plain": [
       "<Figure size 432x288 with 1 Axes>"
      ]
     },
     "metadata": {
      "needs_background": "light"
     },
     "output_type": "display_data"
    }
   ],
   "source": [
    "# Histograma de palavras no titulo e no teview\r\n",
    "def histA():\r\n",
    "    aReview = []\r\n",
    "    aTitle = []\r\n",
    "    size = len(b2wCorpus.index)\r\n",
    "    for i in range(size):\r\n",
    "        aTitle.append(len(b2wCorpus.iloc[i].title.split())-2)\r\n",
    "        aReview.append(len(b2wCorpus.iloc[i].review.split()))\r\n",
    "    return aTitle, aReview\r\n",
    "aTitle, aReview = histA()\r\n",
    "num_of_points = len(aReview)\r\n",
    "data = aReview\r\n",
    "fig, ax = plt.subplots()\r\n",
    "ax.hist(data, bins=[0,5,10,15,20,25,30,35,40,45,50,55,60,65], edgecolor='black')\r\n",
    "ax.set_title(\"Histograma de Palavras do Review\")\r\n",
    "ax.set_xlabel(\"Quantidade de Palavras\")\r\n",
    "ax.set_ylabel(\"Percentagem de Frases\")\r\n",
    "ax.yaxis.set_major_formatter(ticker.PercentFormatter(xmax=len(data)))\r\n",
    "plt.show()\r\n",
    "num_of_points = len(aTitle)\r\n",
    "num_of_bins = 20 \r\n",
    "data = aTitle\r\n",
    "fig, ax = plt.subplots()\r\n",
    "ax.hist(data, bins=[0,1,2,3,4,5,6,7,8,9,10,12,13,14,15], edgecolor='black')\r\n",
    "ax.set_title(\"Histograma de Palavras do Title\")\r\n",
    "ax.set_xlabel(\"Quantidade de Palavras\")\r\n",
    "ax.set_ylabel(\"Percentagem de Frases\")\r\n",
    "ax.yaxis.set_major_formatter(ticker.PercentFormatter(xmax=len(data)))\r\n",
    "plt.show()"
   ]
  },
  {
   "cell_type": "code",
   "execution_count": 18,
   "metadata": {
    "colab": {},
    "colab_type": "code",
    "gather": {
     "logged": 1608456081592
    },
    "id": "6KHSf9EVHJj-"
   },
   "outputs": [],
   "source": [
    "# Ajueste do tamanho do y após tags de <start> e <end>\n",
    "max_length_title = 12"
   ]
  },
  {
   "cell_type": "code",
   "execution_count": 19,
   "metadata": {
    "collapsed": true,
    "gather": {
     "logged": 1608456081824
    },
    "jupyter": {
     "outputs_hidden": true,
     "source_hidden": false
    },
    "nteract": {
     "transient": {
      "deleting": false
     }
    }
   },
   "outputs": [
    {
     "data": {
      "text/plain": [
       "(81746, 17517, 17517)"
      ]
     },
     "execution_count": 19,
     "metadata": {},
     "output_type": "execute_result"
    }
   ],
   "source": [
    "# Checagem do tamanho de train, val e test\n",
    "len(X_train),len(X_val), len(X_test)"
   ]
  },
  {
   "cell_type": "code",
   "execution_count": 20,
   "metadata": {
    "collapsed": true,
    "gather": {
     "logged": 1608456087427
    },
    "jupyter": {
     "outputs_hidden": true,
     "source_hidden": false
    },
    "nteract": {
     "transient": {
      "deleting": false
     }
    }
   },
   "outputs": [],
   "source": [
    "# Tokenização dos Xs\r\n",
    "reviewTokenizer = Tokenizer()\r\n",
    "reviewTokenizer.fit_on_texts(X_train)\r\n",
    "Eword2index = reviewTokenizer.word_index\r\n",
    "vocab_size_source = len(Eword2index) + 1\r\n",
    "\r\n",
    "X_train = reviewTokenizer.texts_to_sequences(X_train)\r\n",
    "X_train = pad_sequences(X_train, maxlen=max_length_review, padding='post')\r\n",
    "\r\n",
    "X_val = reviewTokenizer.texts_to_sequences(X_val)\r\n",
    "X_val = pad_sequences(X_val, maxlen = max_length_review, padding='post')\r\n",
    "\r\n",
    "X_test = reviewTokenizer.texts_to_sequences(X_test)\r\n",
    "X_test = pad_sequences(X_test, maxlen = max_length_review, padding='post')"
   ]
  },
  {
   "cell_type": "code",
   "execution_count": 21,
   "metadata": {
    "colab": {},
    "colab_type": "code",
    "gather": {
     "logged": 1608456090549
    },
    "id": "e_XScLyNICD9"
   },
   "outputs": [],
   "source": [
    "# Tokenização dos ys\n",
    "titleTokenizer = Tokenizer()\n",
    "titleTokenizer.fit_on_texts(y_train)\n",
    "Mword2index = titleTokenizer.word_index\n",
    "vocab_size_target = len(Mword2index) + 1\n",
    "\n",
    "y_train = titleTokenizer.texts_to_sequences(y_train)\n",
    "y_train = pad_sequences(y_train, maxlen=max_length_title, padding='post')\n",
    "\n",
    "y_val = titleTokenizer.texts_to_sequences(y_val)\n",
    "y_val = pad_sequences(y_val, maxlen = max_length_title, padding='post')\n",
    "\n",
    "y_test = titleTokenizer.texts_to_sequences(y_test)\n",
    "y_test = pad_sequences(y_test, maxlen = max_length_title, padding='post')"
   ]
  },
  {
   "cell_type": "code",
   "execution_count": 22,
   "metadata": {
    "colab": {
     "base_uri": "https://localhost:8080/",
     "height": 34
    },
    "colab_type": "code",
    "executionInfo": {
     "elapsed": 2342,
     "status": "ok",
     "timestamp": 1591187253318,
     "user": {
      "displayName": "Harshil Patel",
      "photoUrl": "https://lh3.googleusercontent.com/a-/AOh14GiMwKM2YrHxZU6YvAWdAY9X66fkag_YTa5dLWbuHw=s64",
      "userId": "08207288723314376958"
     },
     "user_tz": -330
    },
    "gather": {
     "logged": 1608456090627
    },
    "id": "6Su1LTElIQut",
    "outputId": "f117d53c-3711-494c-d588-c52812dc150e"
   },
   "outputs": [
    {
     "data": {
      "text/plain": [
       "(34518, 10357)"
      ]
     },
     "execution_count": 22,
     "metadata": {},
     "output_type": "execute_result"
    }
   ],
   "source": [
    "# Checagem dos tamanhos dos dicionários\n",
    "vocab_size_source, vocab_size_target"
   ]
  },
  {
   "cell_type": "code",
   "execution_count": 23,
   "metadata": {
    "colab": {},
    "colab_type": "code",
    "gather": {
     "logged": 1608456095204
    },
    "id": "5RtXpddyIUpw"
   },
   "outputs": [],
   "source": [
    "# Persistindo a train e val\n",
    "with open('NMT_data.pkl','wb') as f:\n",
    "  pkl.dump([X_train, y_train, X_val, y_val],f)\n"
   ]
  },
  {
   "cell_type": "code",
   "execution_count": 24,
   "metadata": {
    "colab": {},
    "colab_type": "code",
    "gather": {
     "logged": 1608456098118
    },
    "id": "TtwW_BJgIpDr"
   },
   "outputs": [],
   "source": [
    "with open('NMT_Etokenizer.pkl','wb') as f:\n",
    "  pkl.dump([vocab_size_source, Eword2index, reviewTokenizer], f)\n",
    "\n",
    "with open('NMT_Mtokenizer.pkl', 'wb') as f:\n",
    "  pkl.dump([vocab_size_target, Mword2index, titleTokenizer], f)"
   ]
  },
  {
   "cell_type": "code",
   "execution_count": 25,
   "metadata": {
    "colab": {
     "base_uri": "https://localhost:8080/",
     "height": 119
    },
    "colab_type": "code",
    "executionInfo": {
     "elapsed": 1493,
     "status": "ok",
     "timestamp": 1591187429458,
     "user": {
      "displayName": "Harshil Patel",
      "photoUrl": "https://lh3.googleusercontent.com/a-/AOh14GiMwKM2YrHxZU6YvAWdAY9X66fkag_YTa5dLWbuHw=s64",
      "userId": "08207288723314376958"
     },
     "user_tz": -330
    },
    "gather": {
     "logged": 1608456098193
    },
    "id": "JvPpqk57KKtT",
    "outputId": "e13f1b91-0c2c-4f2c-f990-cae31603fbc3"
   },
   "outputs": [
    {
     "data": {
      "text/plain": [
       "(array([  861,    28,   752,     3,     9, 17208,     2,    27,   566,\n",
       "         1175,   609,    38,    28,     3,  1701,   189,    61,    27,\n",
       "            3,  1175,   100,   847,   278,  2989,     0,     0,     0,\n",
       "            0,     0,     0,     0,     0,     0,     0,     0,     0,\n",
       "            0,     0,     0,     0,     0,     0,     0,     0,     0,\n",
       "            0,     0,     0,     0,     0,     0,     0,     0,     0,\n",
       "            0,     0,     0,     0,     0,     0], dtype=int32),\n",
       " array([  1,   7, 638, 533,   2,   0,   0,   0,   0,   0,   0,   0],\n",
       "       dtype=int32),\n",
       " array([1, 4, 5, 2, 0, 0, 0, 0, 0, 0, 0, 0], dtype=int32))"
      ]
     },
     "execution_count": 25,
     "metadata": {},
     "output_type": "execute_result"
    }
   ],
   "source": [
    "# Checagem da tokenização\n",
    "X_train[0], y_train[0], y_test[0]"
   ]
  },
  {
   "cell_type": "code",
   "execution_count": 26,
   "metadata": {
    "colab": {},
    "colab_type": "code",
    "gather": {
     "logged": 1608456098595
    },
    "id": "jkZBXBgrKU2X"
   },
   "outputs": [],
   "source": [
    "# Garantindo que as series estão em np.array\n",
    "X_train = np.array(X_train)\n",
    "y_train = np.array(y_train)\n",
    "X_val = np.array(X_val)\n",
    "y_val = np.array(y_val)\n",
    "X_test = np.array(X_test)\n",
    "y_test = np.array(y_test)"
   ]
  },
  {
   "cell_type": "code",
   "execution_count": 27,
   "metadata": {
    "colab": {
     "base_uri": "https://localhost:8080/",
     "height": 119
    },
    "colab_type": "code",
    "executionInfo": {
     "elapsed": 1184,
     "status": "ok",
     "timestamp": 1591187514312,
     "user": {
      "displayName": "Harshil Patel",
      "photoUrl": "https://lh3.googleusercontent.com/a-/AOh14GiMwKM2YrHxZU6YvAWdAY9X66fkag_YTa5dLWbuHw=s64",
      "userId": "08207288723314376958"
     },
     "user_tz": -330
    },
    "gather": {
     "logged": 1608456098843
    },
    "id": "eJ4-JqNcKnE-",
    "outputId": "ab3f8452-ab6d-42a2-e844-72440a6719ab"
   },
   "outputs": [
    {
     "data": {
      "text/plain": [
       "(array([  861,    28,   752,     3,     9, 17208,     2,    27,   566,\n",
       "         1175,   609,    38,    28,     3,  1701,   189,    61,    27,\n",
       "            3,  1175,   100,   847,   278,  2989,     0,     0,     0,\n",
       "            0,     0,     0,     0,     0,     0,     0,     0,     0,\n",
       "            0,     0,     0,     0,     0,     0,     0,     0,     0,\n",
       "            0,     0,     0,     0,     0,     0,     0,     0,     0,\n",
       "            0,     0,     0,     0,     0,     0], dtype=int32),\n",
       " array([  1,   7, 638, 533,   2,   0,   0,   0,   0,   0,   0,   0],\n",
       "       dtype=int32),\n",
       " array([1, 4, 5, 2, 0, 0, 0, 0, 0, 0, 0, 0], dtype=int32))"
      ]
     },
     "execution_count": 27,
     "metadata": {},
     "output_type": "execute_result"
    }
   ],
   "source": [
    "X_train[0], y_train[0], y_test[0]"
   ]
  },
  {
   "cell_type": "code",
   "execution_count": 28,
   "metadata": {
    "collapsed": true,
    "gather": {
     "logged": 1608456098908
    },
    "jupyter": {
     "outputs_hidden": true,
     "source_hidden": false
    },
    "nteract": {
     "transient": {
      "deleting": false
     }
    }
   },
   "outputs": [],
   "source": [
    "# Definindo hiper-parâmetros\r\n",
    "latent_dim_bi = 32\r\n",
    "latent_dim = 64\r\n",
    "epochs = 20\r\n",
    "batch_size = 256\r\n",
    "optimizer = tf.keras.optimizers.Adam(learning_rate=0.001)"
   ]
  },
  {
   "cell_type": "code",
   "execution_count": 29,
   "metadata": {
    "colab": {
     "base_uri": "https://localhost:8080/",
     "height": 666
    },
    "colab_type": "code",
    "collapsed": false,
    "executionInfo": {
     "elapsed": 704263,
     "status": "ok",
     "timestamp": 1591189255383,
     "user": {
      "displayName": "Harshil Patel",
      "photoUrl": "https://lh3.googleusercontent.com/a-/AOh14GiMwKM2YrHxZU6YvAWdAY9X66fkag_YTa5dLWbuHw=s64",
      "userId": "08207288723314376958"
     },
     "user_tz": -330
    },
    "gather": {
     "logged": 1608456948362
    },
    "id": "X_65vQcaNBCj",
    "jupyter": {
     "outputs_hidden": false
    },
    "outputId": "24823195-3643-488b-9ac0-d64625ed9665"
   },
   "outputs": [
    {
     "name": "stdout",
     "output_type": "stream",
     "text": [
      "Model: \"model\"\n",
      "__________________________________________________________________________________________________\n",
      "Layer (type)                    Output Shape         Param #     Connected to                     \n",
      "==================================================================================================\n",
      "input_1 (InputLayer)            [(None, 60)]         0                                            \n",
      "__________________________________________________________________________________________________\n",
      "embedding (Embedding)           (None, 60, 64)       2209152     input_1[0][0]                    \n",
      "__________________________________________________________________________________________________\n",
      "lstm_2 (LSTM)                   [(None, 60, 64), (No 33024       embedding[0][0]                  \n",
      "__________________________________________________________________________________________________\n",
      "input_2 (InputLayer)            [(None, None)]       0                                            \n",
      "__________________________________________________________________________________________________\n",
      "lstm_3 (LSTM)                   [(None, 60, 64), (No 33024       lstm_2[0][0]                     \n",
      "__________________________________________________________________________________________________\n",
      "embedding_1 (Embedding)         (None, None, 64)     662848      input_2[0][0]                    \n",
      "__________________________________________________________________________________________________\n",
      "lstm_4 (LSTM)                   [(None, 60, 64), (No 33024       lstm_3[0][0]                     \n",
      "__________________________________________________________________________________________________\n",
      "lstm_5 (LSTM)                   [(None, None, 64), ( 33024       embedding_1[0][0]                \n",
      "                                                                 lstm_4[0][1]                     \n",
      "                                                                 lstm_4[0][2]                     \n",
      "__________________________________________________________________________________________________\n",
      "attention_layer (AttentionLayer ((None, None, 64), ( 8256        lstm_4[0][0]                     \n",
      "                                                                 lstm_5[0][0]                     \n",
      "__________________________________________________________________________________________________\n",
      "concat_layer (Concatenate)      (None, None, 128)    0           lstm_5[0][0]                     \n",
      "                                                                 attention_layer[0][0]            \n",
      "__________________________________________________________________________________________________\n",
      "time_distributed (TimeDistribut (None, None, 10357)  1336053     concat_layer[0][0]               \n",
      "==================================================================================================\n",
      "Total params: 4,348,405\n",
      "Trainable params: 4,348,405\n",
      "Non-trainable params: 0\n",
      "__________________________________________________________________________________________________\n",
      "Epoch 1/20\n",
      "320/320 [==============================] - 53s 164ms/step - loss: 2.2692 - accuracy: 0.7170 - val_loss: 1.3893 - val_accuracy: 0.767\n",
      "Epoch 2/20\n",
      "320/320 [==============================] - 53s 166ms/step - loss: 1.3992 - accuracy: 0.7723 - val_loss: 1.2712 - val_accuracy: 0.787\n",
      "Epoch 3/20\n",
      "320/320 [==============================] - 52s 163ms/step - loss: 1.2920 - accuracy: 0.7873 - val_loss: 1.2077 - val_accuracy: 0.793\n",
      "Epoch 4/20\n",
      "320/320 [==============================] - 51s 159ms/step - loss: 1.2367 - accuracy: 0.7915 - val_loss: 1.1749 - val_accuracy: 0.796\n",
      "Epoch 5/20\n",
      "320/320 [==============================] - 52s 162ms/step - loss: 1.1934 - accuracy: 0.7975 - val_loss: 1.1303 - val_accuracy: 0.802\n",
      "Epoch 6/20\n",
      "320/320 [==============================] - 53s 164ms/step - loss: 1.1390 - accuracy: 0.8014 - val_loss: 1.0962 - val_accuracy: 0.805\n",
      "Epoch 7/20\n",
      "320/320 [==============================] - 52s 163ms/step - loss: 1.0998 - accuracy: 0.8049 - val_loss: 1.0792 - val_accuracy: 0.807\n",
      "Epoch 8/20\n",
      "320/320 [==============================] - 53s 164ms/step - loss: 1.0673 - accuracy: 0.8075 - val_loss: 1.0648 - val_accuracy: 0.807\n",
      "Epoch 9/20\n",
      "320/320 [==============================] - 53s 164ms/step - loss: 1.0411 - accuracy: 0.8099 - val_loss: 1.0623 - val_accuracy: 0.808\n",
      "Epoch 10/20\n",
      "320/320 [==============================] - 52s 161ms/step - loss: 1.0175 - accuracy: 0.8121 - val_loss: 1.0559 - val_accuracy: 0.809\n",
      "Epoch 11/20\n",
      "320/320 [==============================] - 51s 161ms/step - loss: 0.9963 - accuracy: 0.8145 - val_loss: 1.0556 - val_accuracy: 0.809\n",
      "Epoch 12/20\n",
      "320/320 [==============================] - 51s 161ms/step - loss: 0.9770 - accuracy: 0.8163 - val_loss: 1.0539 - val_accuracy: 0.810\n",
      "Epoch 13/20\n",
      "320/320 [==============================] - 51s 161ms/step - loss: 0.9596 - accuracy: 0.8180 - val_loss: 1.0518 - val_accuracy: 0.810\n",
      "Epoch 14/20\n",
      "320/320 [==============================] - 52s 162ms/step - loss: 0.9427 - accuracy: 0.8197 - val_loss: 1.0493 - val_accuracy: 0.810\n",
      "Epoch 15/20\n",
      "320/320 [==============================] - 51s 160ms/step - loss: 0.9274 - accuracy: 0.8211 - val_loss: 1.0554 - val_accuracy: 0.809\n",
      "Epoch 16/20\n",
      "320/320 [==============================] - 51s 160ms/step - loss: 0.9122 - accuracy: 0.8224 - val_loss: 1.0566 - val_accuracy: 0.809\n",
      "Epoch 00016: early stopping\n"
     ]
    }
   ],
   "source": [
    "# Rede: arquitetura, configurações, parâmetros e otimização\n",
    "physical_devices = tf.config.list_physical_devices('GPU') \n",
    "tf.config.experimental.set_memory_growth(physical_devices[0], True)\n",
    "with tf.device('GPU:0'):\n",
    "    from keras import backend as K \n",
    "    K.clear_session() \n",
    "    # Encoder \n",
    "    encoder_inputs = Input(shape=(max_length_review,)) \n",
    "    enc_emb = Embedding(vocab_size_source, latent_dim,trainable=True)(encoder_inputs) \n",
    "\n",
    "    # Bidirectional\n",
    "    forward_layer = LSTM(latent_dim_bi, return_state=True, return_sequences=True) \n",
    "    backward_layer = LSTM(latent_dim_bi, return_state=True, return_sequences=True, go_backwards=True)\n",
    "    encoder_bilstm3 = Bidirectional(forward_layer, backward_layer=backward_layer)\n",
    "    encoder_outputs, forward_h, forward_c, backward_h, backward_c = encoder_bilstm3(enc_emb)\n",
    "    state_h = Concatenate()([forward_h, backward_h])\n",
    "    state_c = Concatenate()([forward_c, backward_c])\n",
    "                            \n",
    "    # LSTM 1 \n",
    "    encoder_lstm1 = LSTM(latent_dim,return_sequences=True,return_state=True) \n",
    "    encoder_output1, state_h1, state_c1 = encoder_lstm1(enc_emb) \n",
    "\n",
    "    # LSTM 2 \n",
    "    encoder_lstm2 = LSTM(latent_dim,return_sequences=True,return_state=True) \n",
    "    encoder_output2, state_h2, state_c2 = encoder_lstm2(encoder_output1) \n",
    "\n",
    "    # LSTM 3 \n",
    "    encoder_lstm3=LSTM(latent_dim, return_state=True, return_sequences=True) \n",
    "    encoder_outputs, state_h, state_c= encoder_lstm3(encoder_output2) \n",
    "\n",
    "    # Decoder\n",
    "    decoder_inputs = Input(shape=(None,)) \n",
    "    dec_emb_layer = Embedding(vocab_size_target, latent_dim,trainable=True) \n",
    "    dec_emb = dec_emb_layer(decoder_inputs) \n",
    "\n",
    "    # LSTM usando encoder_states como initial state\n",
    "    decoder_lstm = LSTM(latent_dim, return_sequences=True, return_state=True) \n",
    "    decoder_outputs,decoder_fwd_state, decoder_back_state = decoder_lstm(dec_emb,initial_state=[state_h, state_c]) \n",
    "\n",
    "    # Attention Layer\n",
    "    attn_layer = AttentionLayer(name='attention_layer') \n",
    "    attn_out, attn_states = attn_layer([encoder_outputs, decoder_outputs]) \n",
    "\n",
    "    # Concatenação do attention output e o decoder LSTM output \n",
    "    decoder_concat_input = Concatenate(axis=-1, name='concat_layer')([decoder_outputs, attn_out])\n",
    "\n",
    "    # Dense layer\n",
    "    decoder_dense = TimeDistributed(Dense(vocab_size_target, activation='softmax')) \n",
    "    decoder_outputs = decoder_dense(decoder_concat_input) \n",
    "\n",
    "    # Definição da model\n",
    "    model = Model([encoder_inputs, decoder_inputs], decoder_outputs) \n",
    "    model.summary()\n",
    "    plot_model(model, to_file='NMT_EP3_1-002_train_model.png', show_shapes=True)\n",
    "    model.compile(optimizer=optimizer, loss='sparse_categorical_crossentropy', metrics=['accuracy'])\n",
    "    es = EarlyStopping(monitor='val_loss', mode='min', verbose=1,patience=2)\n",
    "    \n",
    "    if RUN_MODE:\n",
    "        history = model.fit([X_train, y_train[:,:-1]], y_train.reshape(y_train.shape[0], y_train.shape[1],1)[:,1:], \n",
    "                            epochs=epochs, \n",
    "                            callbacks=[es],\n",
    "                            batch_size=batch_size,\n",
    "                            validation_data = ([X_val, y_val[:,:-1]], y_val.reshape(y_val.shape[0], y_val.shape[1], 1)[:,1:]))\n",
    "        with open('NMT_history.history', 'wb') as file_pi:\n",
    "            pickle.dump(history.history, file_pi)\n",
    "    else:\n",
    "        with open('NMT_history.history', 'rb') as file_pi:\n",
    "            history = pickle.load(file_pi)"
   ]
  },
  {
   "cell_type": "code",
   "execution_count": 30,
   "metadata": {
    "gather": {
     "logged": 1608457005534
    },
    "nteract": {
     "transient": {
      "deleting": false
     }
    }
   },
   "outputs": [
    {
     "name": "stdout",
     "output_type": "stream",
     "text": [
      "WARNING:tensorflow:From /anaconda/envs/ep3/lib/python3.6/site-packages/tensorflow/python/ops/resource_variable_ops.py:1817: calling BaseResourceVariable.__init__ (from tensorflow.python.ops.resource_variable_ops) with constraint is deprecated and will be removed in a future version.\n",
      "Instructions for updating:\n",
      "If using Keras pass *_constraint arguments to layers.\n",
      "INFO:tensorflow:Assets written to: NMT_model.model/assets\n"
     ]
    }
   ],
   "source": [
    "# Salva ou carrega o modelo otimizado\n",
    "if RUN_MODE:\n",
    "    model.save('NMT_model.model')\n",
    "else:\n",
    "    model = tf.keras.models.load_model('NMT_model.model')"
   ]
  },
  {
   "cell_type": "code",
   "execution_count": 31,
   "metadata": {
    "colab": {
     "base_uri": "https://localhost:8080/",
     "height": 34
    },
    "colab_type": "code",
    "executionInfo": {
     "elapsed": 1143,
     "status": "ok",
     "timestamp": 1591189365123,
     "user": {
      "displayName": "Harshil Patel",
      "photoUrl": "https://lh3.googleusercontent.com/a-/AOh14GiMwKM2YrHxZU6YvAWdAY9X66fkag_YTa5dLWbuHw=s64",
      "userId": "08207288723314376958"
     },
     "user_tz": -330
    },
    "gather": {
     "logged": 1608457042348
    },
    "id": "RVIwf9GPOTia",
    "outputId": "4443ce2e-b15b-45b1-b619-757eac60f72d"
   },
   "outputs": [
    {
     "name": "stdout",
     "output_type": "stream",
     "text": [
      "Saved model to disk\n"
     ]
    },
    {
     "data": {
      "text/plain": [
       "<tensorflow.python.training.tracking.util.CheckpointLoadStatus at 0x7f08ea0baa90>"
      ]
     },
     "execution_count": 31,
     "metadata": {},
     "output_type": "execute_result"
    }
   ],
   "source": [
    "if RUN_MODE:\n",
    "    model_json = model.to_json()\n",
    "    with open(\"NMT_model.json\", \"w\") as json_file:\n",
    "        json_file.write(model_json)\n",
    "    # Serilizando o modelo no formato TF\n",
    "    model.save_weights(\"NMT_model_weight.tf\",save_format='tf')\n",
    "    print(\"Saved model to disk\")\n",
    "\n",
    "# Carregando o model architecture e atribuindo os pessos\n",
    "json_file = open('NMT_model.json', 'r')\n",
    "loaded_model_json = json_file.read()\n",
    "json_file.close()\n",
    "model_loaded = model_from_json(loaded_model_json, custom_objects={'AttentionLayer': AttentionLayer})\n",
    "# Carrregando os pesos no modelo\n",
    "model_loaded.load_weights(\"NMT_model_weight.tf\")"
   ]
  },
  {
   "cell_type": "code",
   "execution_count": 32,
   "metadata": {
    "colab": {
     "base_uri": "https://localhost:8080/",
     "height": 265
    },
    "colab_type": "code",
    "collapsed": false,
    "executionInfo": {
     "elapsed": 1526,
     "status": "ok",
     "timestamp": 1591189467303,
     "user": {
      "displayName": "Harshil Patel",
      "photoUrl": "https://lh3.googleusercontent.com/a-/AOh14GiMwKM2YrHxZU6YvAWdAY9X66fkag_YTa5dLWbuHw=s64",
      "userId": "08207288723314376958"
     },
     "user_tz": -330
    },
    "gather": {
     "logged": 1608457042857
    },
    "id": "ELszk8xxRziN",
    "jupyter": {
     "outputs_hidden": false
    },
    "outputId": "fbfc54ea-171a-4b2c-cedb-01cdb9e7025a"
   },
   "outputs": [
    {
     "data": {
      "image/png": "[encoded data removed]",
      "text/plain": [
       "<Figure size 432x288 with 1 Axes>"
      ]
     },
     "metadata": {
      "needs_background": "light"
     },
     "output_type": "display_data"
    },
    {
     "data": {
      "image/png": "[encoded data removed]",
      "text/plain": [
       "<Figure size 432x288 with 1 Axes>"
      ]
     },
     "metadata": {
      "needs_background": "light"
     },
     "output_type": "display_data"
    },
    {
     "data": {
      "text/plain": [
       "<Figure size 432x288 with 0 Axes>"
      ]
     },
     "metadata": {},
     "output_type": "display_data"
    }
   ],
   "source": [
    "# Gráfico da loss e da acurácia\n",
    "import matplotlib.pyplot as plt \n",
    "plt.title('Loss - Treinamento')\n",
    "plt.xlabel('epochs')\n",
    "plt.ylabel('Loss')\n",
    "if RUN_MODE:\n",
    "    plt.plot(history.history['loss'], label='train')\n",
    "    plt.plot(history.history['val_loss'], label='valid')\n",
    "else:\n",
    "    plt.plot(history['loss'], label='train')\n",
    "    plt.plot(history['val_loss'], label='valid')\n",
    "plt.legend()\n",
    "plt.show()\n",
    "plt.clf()\n",
    "\n",
    "plt.title('Accuracy - Treinamento')\n",
    "plt.xlabel('epochs')\n",
    "plt.ylabel('accuracy')\n",
    "if RUN_MODE:\n",
    "    plt.plot(history.history['accuracy'], label='train')\n",
    "    plt.plot(history.history['val_accuracy'], label='valid')\n",
    "else:\n",
    "    plt.plot(history['accuracy'], label='train')\n",
    "    plt.plot(history['val_accuracy'], label='valid')\n",
    "plt.legend()\n",
    "plt.show()\n",
    "plt.clf()"
   ]
  },
  {
   "cell_type": "code",
   "execution_count": 33,
   "metadata": {
    "gather": {
     "logged": 1608457061040
    },
    "nteract": {
     "transient": {
      "deleting": false
     }
    }
   },
   "outputs": [
    {
     "name": "stdout",
     "output_type": "stream",
     "text": [
      "548/548 [==============================] - 18s 33ms/step - loss: 1.0469 - accuracy: 0.81\n"
     ]
    }
   ],
   "source": [
    "# Análise do série de test (y_test)\n",
    "if RUN_MODE:\n",
    "    model.evaluate([X_test, y_test[:,:-1]], y_test.reshape(y_test.shape[0], y_test.shape[1],1)[:,1:])"
   ]
  },
  {
   "cell_type": "code",
   "execution_count": 34,
   "metadata": {
    "collapsed": true,
    "gather": {
     "logged": 1608457068222
    },
    "jupyter": {
     "outputs_hidden": true,
     "source_hidden": false
    },
    "nteract": {
     "transient": {
      "deleting": false
     }
    }
   },
   "outputs": [],
   "source": [
    "# Carrega tokens serializados\n",
    "with open('NMT_Etokenizer.pkl','rb') as f:\n",
    "  vocab_size_source, Eword2index, reviewTokenizer = pkl.load(f)\n",
    "\n",
    "with open('NMT_Mtokenizer.pkl', 'rb') as f:\n",
    "  vocab_size_target, Mword2index, titleTokenizer = pkl.load(f)\n",
    "\n",
    "with open('NMT_data.pkl','rb') as f:\n",
    "  X_train, y_train, X_val, y_val = pkl.load(f)"
   ]
  },
  {
   "cell_type": "code",
   "execution_count": 35,
   "metadata": {
    "colab": {},
    "colab_type": "code",
    "gather": {
     "logged": 1608457068290
    },
    "id": "0VIhrLXeSWbV"
   },
   "outputs": [],
   "source": [
    "Eindex2word = reviewTokenizer.index_word\n",
    "Mindex2word = titleTokenizer.index_word"
   ]
  },
  {
   "cell_type": "code",
   "execution_count": 36,
   "metadata": {
    "colab": {
     "base_uri": "https://localhost:8080/",
     "height": 595
    },
    "colab_type": "code",
    "executionInfo": {
     "elapsed": 1697,
     "status": "ok",
     "timestamp": 1591243606648,
     "user": {
      "displayName": "Harshil Patel",
      "photoUrl": "https://lh3.googleusercontent.com/a-/AOh14GiMwKM2YrHxZU6YvAWdAY9X66fkag_YTa5dLWbuHw=s64",
      "userId": "08207288723314376958"
     },
     "user_tz": -330
    },
    "gather": {
     "logged": 1608457068592
    },
    "id": "LkquFI06gMQ0",
    "outputId": "8a85d355-88df-4f97-e677-169453f2df79"
   },
   "outputs": [
    {
     "name": "stdout",
     "output_type": "stream",
     "text": [
      "Model: \"model\"\n",
      "__________________________________________________________________________________________________\n",
      "Layer (type)                    Output Shape         Param #     Connected to                     \n",
      "==================================================================================================\n",
      "input_1 (InputLayer)            [(None, 60)]         0                                            \n",
      "__________________________________________________________________________________________________\n",
      "embedding (Embedding)           (None, 60, 64)       2209152     input_1[0][0]                    \n",
      "__________________________________________________________________________________________________\n",
      "lstm_2 (LSTM)                   [(None, 60, 64), (No 33024       embedding[0][0]                  \n",
      "__________________________________________________________________________________________________\n",
      "input_2 (InputLayer)            [(None, None)]       0                                            \n",
      "__________________________________________________________________________________________________\n",
      "lstm_3 (LSTM)                   [(None, 60, 64), (No 33024       lstm_2[0][0]                     \n",
      "__________________________________________________________________________________________________\n",
      "embedding_1 (Embedding)         (None, None, 64)     662848      input_2[0][0]                    \n",
      "__________________________________________________________________________________________________\n",
      "lstm_4 (LSTM)                   [(None, 60, 64), (No 33024       lstm_3[0][0]                     \n",
      "__________________________________________________________________________________________________\n",
      "lstm_5 (LSTM)                   [(None, None, 64), ( 33024       embedding_1[0][0]                \n",
      "                                                                 lstm_4[0][1]                     \n",
      "                                                                 lstm_4[0][2]                     \n",
      "__________________________________________________________________________________________________\n",
      "attention_layer (AttentionLayer ((None, None, 64), ( 8256        lstm_4[0][0]                     \n",
      "                                                                 lstm_5[0][0]                     \n",
      "__________________________________________________________________________________________________\n",
      "concat_layer (Concatenate)      (None, None, 128)    0           lstm_5[0][0]                     \n",
      "                                                                 attention_layer[0][0]            \n",
      "__________________________________________________________________________________________________\n",
      "time_distributed (TimeDistribut (None, None, 10357)  1336053     concat_layer[0][0]               \n",
      "==================================================================================================\n",
      "Total params: 4,348,405\n",
      "Trainable params: 4,348,405\n",
      "Non-trainable params: 0\n",
      "__________________________________________________________________________________________________\n"
     ]
    }
   ],
   "source": [
    "model_loaded.summary()"
   ]
  },
  {
   "cell_type": "code",
   "execution_count": 37,
   "metadata": {
    "colab": {
     "base_uri": "https://localhost:8080/",
     "height": 51
    },
    "colab_type": "code",
    "executionInfo": {
     "elapsed": 1332,
     "status": "ok",
     "timestamp": 1591244372358,
     "user": {
      "displayName": "Harshil Patel",
      "photoUrl": "https://lh3.googleusercontent.com/a-/AOh14GiMwKM2YrHxZU6YvAWdAY9X66fkag_YTa5dLWbuHw=s64",
      "userId": "08207288723314376958"
     },
     "user_tz": -330
    },
    "gather": {
     "logged": 1608457069096
    },
    "id": "93UwmPxwSg3s",
    "outputId": "b760b905-c1ea-4213-fae3-e3a4b65e4512"
   },
   "outputs": [
    {
     "name": "stdout",
     "output_type": "stream",
     "text": [
      "(None, 60, 64)\n",
      "(None, None)\n"
     ]
    }
   ],
   "source": [
    "# encoder inference\n",
    "encoder_inputs = model_loaded.input[0]  #loading encoder_inputs\n",
    "encoder_outputs, state_h, state_c = model_loaded.layers[6].output #loading encoder_outputs\n",
    "\n",
    "print(encoder_outputs.shape)\n",
    "\n",
    "encoder_model = Model(inputs=encoder_inputs,outputs=[encoder_outputs, state_h, state_c])\n",
    "\n",
    "# decoder inference\n",
    "# Below tensors will hold the states of the previous time step ---\n",
    "decoder_state_input_h = Input(shape=(latent_dim,))\n",
    "decoder_state_input_c = Input(shape=(latent_dim,))\n",
    "decoder_hidden_state_input = Input(shape=(max_length_review,latent_dim)) # ---\n",
    "\n",
    "# Get the embeddings of the decoder sequence\n",
    "decoder_inputs = model_loaded.layers[3].output\n",
    "\n",
    "print(decoder_inputs.shape)\n",
    "dec_emb_layer = model_loaded.layers[5]\n",
    "\n",
    "dec_emb2= dec_emb_layer(decoder_inputs)\n",
    "\n",
    "# To predict the next word in the sequence, set the initial states to the states from the previous time step\n",
    "decoder_lstm = model_loaded.layers[7]\n",
    "decoder_outputs2, state_h2, state_c2 = decoder_lstm(dec_emb2, initial_state=[decoder_state_input_h, decoder_state_input_c])\n",
    "\n",
    "#attention inference\n",
    "attn_layer = model_loaded.layers[8]\n",
    "attn_out_inf, attn_states_inf = attn_layer([decoder_hidden_state_input, decoder_outputs2])\n",
    "\n",
    "concate = model_loaded.layers[9]\n",
    "decoder_inf_concat = concate([decoder_outputs2, attn_out_inf])\n",
    "\n",
    "# A dense softmax layer to generate prob dist. over the target vocabulary\n",
    "decoder_dense = model_loaded.layers[10]\n",
    "decoder_outputs2 = decoder_dense(decoder_inf_concat)\n",
    "\n",
    "# Final decoder model\n",
    "decoder_model = Model(\n",
    "[decoder_inputs] + [decoder_hidden_state_input,decoder_state_input_h, decoder_state_input_c],\n",
    "[decoder_outputs2] + [state_h2, state_c2])"
   ]
  },
  {
   "cell_type": "code",
   "execution_count": 38,
   "metadata": {
    "colab": {},
    "colab_type": "code",
    "gather": {
     "logged": 1608457069205
    },
    "id": "gjJnpHaLSraf"
   },
   "outputs": [],
   "source": [
    "def decode_sequence(input_seq):\n",
    "    # Encode the input as state vectors.\n",
    "    e_out, e_h, e_c = encoder_model.predict(input_seq)\n",
    "\n",
    "    # Generate empty target sequence of length 1.\n",
    "    target_seq = np.zeros((1,1))\n",
    "\n",
    "    # Chose the 'start' word as the first word of the target sequence\n",
    "    target_seq[0, 0] = Mword2index['start']\n",
    "\n",
    "    stop_condition = False\n",
    "    decoded_sentence = ''\n",
    "    while not stop_condition:\n",
    "      physical_devices = tf.config.list_physical_devices('GPU') \n",
    "      tf.config.experimental.set_memory_growth(physical_devices[0], True)\n",
    "      with tf.device('GPU:0'):\n",
    "        output_tokens, h, c = decoder_model.predict([target_seq] + [e_out, e_h, e_c])\n",
    "\n",
    "        # Sample a token\n",
    "        sampled_token_index = np.argmax(output_tokens[0, -1, :])\n",
    "        if sampled_token_index == 0:\n",
    "          break\n",
    "        else:\n",
    "          sampled_token = Mindex2word[sampled_token_index]\n",
    "\n",
    "          if(sampled_token!='end'):\n",
    "              decoded_sentence += ' '+sampled_token\n",
    "\n",
    "              # Exit condition: either hit max length or find stop word.\n",
    "              if (sampled_token == 'end' or len(decoded_sentence.split()) >= (26-1)):\n",
    "                  stop_condition = True\n",
    "\n",
    "          # Update the target sequence (of length 1).\n",
    "          target_seq = np.zeros((1,1))\n",
    "          target_seq[0, 0] = sampled_token_index\n",
    "\n",
    "          # Update internal states\n",
    "          e_h, e_c = h, c\n",
    "\n",
    "    return decoded_sentence"
   ]
  },
  {
   "cell_type": "code",
   "execution_count": 39,
   "metadata": {
    "gather": {
     "logged": 1608457069388
    }
   },
   "outputs": [],
   "source": [
    "Eindex2word = reviewTokenizer.index_word\n",
    "Mindex2word = titleTokenizer.index_word"
   ]
  },
  {
   "cell_type": "code",
   "execution_count": 40,
   "metadata": {
    "colab": {},
    "colab_type": "code",
    "gather": {
     "logged": 1608457069473
    },
    "id": "TOaWp74qTMl8"
   },
   "outputs": [],
   "source": [
    "# Converte vetor em title\n",
    "def seq2summary(input_seq):\n",
    "    newString=''\n",
    "    for i in input_seq:\n",
    "      if((i!=0 and i!=Mword2index['start']) and i!=Mword2index['end']):\n",
    "        newString=newString+Mindex2word[i]+' '\n",
    "    return newString\n",
    "# Converte vetor em review\n",
    "def seq2text(input_seq):\n",
    "    newString=''\n",
    "    for i in input_seq:\n",
    "      if(i!=0):\n",
    "        newString=newString+Eindex2word[i]+' '\n",
    "    return newString"
   ]
  },
  {
   "cell_type": "code",
   "execution_count": 41,
   "metadata": {
    "collapsed": true,
    "gather": {
     "logged": 1608457069554
    },
    "jupyter": {
     "outputs_hidden": true,
     "source_hidden": false
    },
    "nteract": {
     "transient": {
      "deleting": false
     }
    }
   },
   "outputs": [
    {
     "data": {
      "text/plain": [
       "array([  13,  100,    1,   37, 5148,  102,  740,    8, 2560, 8331, 2098,\n",
       "       1950, 8331,    3, 3469,    1,    7,   37,   80,   36,   13,   43,\n",
       "        598,  267,    1,  255,  124,   38,    4,  777,  262, 1542,    0,\n",
       "          0,    0,    0,    0,    0,    0,    0,    0,    0,    0,    0,\n",
       "          0,    0,    0,    0,    0,    0,    0,    0,    0,    0,    0,\n",
       "          0,    0,    0,    0,    0], dtype=int32)"
      ]
     },
     "execution_count": 41,
     "metadata": {},
     "output_type": "execute_result"
    }
   ],
   "source": [
    "X_test[0]"
   ]
  },
  {
   "cell_type": "code",
   "execution_count": 42,
   "metadata": {
    "collapsed": true,
    "gather": {
     "logged": 1608457069620
    },
    "jupyter": {
     "outputs_hidden": true,
     "source_hidden": false
    },
    "nteract": {
     "transient": {
      "deleting": false
     }
    }
   },
   "outputs": [
    {
     "data": {
      "text/plain": [
       "17517"
      ]
     },
     "execution_count": 42,
     "metadata": {},
     "output_type": "execute_result"
    }
   ],
   "source": [
    "len(X_test)"
   ]
  },
  {
   "cell_type": "code",
   "execution_count": 43,
   "metadata": {
    "collapsed": true,
    "jupyter": {
     "outputs_hidden": true,
     "source_hidden": false
    },
    "nteract": {
     "transient": {
      "deleting": false
     }
    }
   },
   "outputs": [
    {
     "data": {
      "application/vnd.jupyter.widget-view+json": {
       "model_id": "499f8549146a47448966f9a1e1d43bb4",
       "version_major": 2,
       "version_minor": 0
      },
      "text/plain": [
       "HBox(children=(HTML(value=''), FloatProgress(value=0.0, max=17517.0), HTML(value='')))"
      ]
     },
     "metadata": {},
     "output_type": "display_data"
    }
   ],
   "source": [
    "# Predict\r\n",
    "if RUN_MODE:\r\n",
    "  dfResults =  pd.DataFrame(columns=['Review','Original','Predicted','NIST','BLEU','METEOR'])\r\n",
    "  from tqdm.notebook import tqdm\r\n",
    "  size = X_test\r\n",
    "  with tqdm(total=len(size)) as pbar:  \r\n",
    "    for i in range(len(size)):\r\n",
    "      review = seq2text(X_test[i])\r\n",
    "      original = seq2summary(y_test[i])\r\n",
    "      predicted = decode_sequence(X_test[i].reshape(1,max_length_review))\r\n",
    "      dfResults = dfResults.append({'Review': review, 'Original': original,'Predicted': predicted}, ignore_index=True)\r\n",
    "      pbar.update(1)\r\n",
    "    dfResults.to_pickle('dfResults.df')\r\n",
    "else:\r\n",
    "  dfResults =  pd.read_pickle('dfResults.df')\r\n",
    "\r\n",
    "dfResults.to_csv('b2wCorpusFulldfResults.tsv', sep = '\\t',index = False)\r\n"
   ]
  },
  {
   "cell_type": "code",
   "execution_count": null,
   "metadata": {
    "colab": {
     "base_uri": "https://localhost:8080/",
     "height": 867
    },
    "colab_type": "code",
    "executionInfo": {
     "elapsed": 5676,
     "status": "ok",
     "timestamp": 1591244416992,
     "user": {
      "displayName": "Harshil Patel",
      "photoUrl": "https://lh3.googleusercontent.com/a-/AOh14GiMwKM2YrHxZU6YvAWdAY9X66fkag_YTa5dLWbuHw=s64",
      "userId": "08207288723314376958"
     },
     "user_tz": -330
    },
    "gather": {
     "logged": 1608427133951
    },
    "id": "IPE51LS4TB2D",
    "outputId": "a89d0346-58c2-4ab8-cf3c-4d72ada4988e"
   },
   "outputs": [],
   "source": [
    "# Predict\n",
    "if RUN_MODE:\n",
    "  dfResults =  pd.DataFrame(columns=['Review','Original','Predicted','NIST','BLEU','METEOR'])\n",
    "  from tqdm.notebook import tqdm\n",
    "  size = X_test\n",
    "  with tqdm(total=len(size)) as pbar:  \n",
    "    for i in range(len(size)):\n",
    "      review = seq2text(X_test[i])\n",
    "      original = seq2summary(y_test[i])\n",
    "      predicted = decode_sequence(X_test[i].reshape(1,max_length_review))\n",
    "      dfResults = dfResults.append({'Review': review, 'Original': original,'Predicted': predicted}, ignore_index=True)\n",
    "      pbar.update(1)\n",
    "      print('predicted:',predicted)\n",
    "    dfResults.to_picklpredictede('dfResults.df')\n",
    "    \n",
    "else:\n",
    "  dfResults =  pd.read_pickle('dfResults.df')\n",
    "\n",
    "dfResults.to_csv('b2wCorpusFulldfResults.tsv', sep = '\\t',index = False)"
   ]
  },
  {
   "cell_type": "code",
   "execution_count": 1,
   "metadata": {
    "collapsed": true,
    "gather": {
     "logged": 1608424328767
    },
    "jupyter": {
     "outputs_hidden": true,
     "source_hidden": false
    },
    "nteract": {
     "transient": {
      "deleting": false
     }
    }
   },
   "outputs": [
    {
     "ename": "NameError",
     "evalue": "name 'dfResults' is not defined",
     "output_type": "error",
     "traceback": [
      "\u001b[0;31m---------------------------------------------------------------------------\u001b[0m",
      "\u001b[0;31mNameError\u001b[0m                                 Traceback (most recent call last)",
      "\u001b[0;32m<ipython-input-1-9c991fc7b6e3>\u001b[0m in \u001b[0;36m<module>\u001b[0;34m\u001b[0m\n\u001b[1;32m      1\u001b[0m \u001b[0;31m# Checa o resultado do predict\u001b[0m\u001b[0;34m\u001b[0m\u001b[0;34m\u001b[0m\u001b[0;34m\u001b[0m\u001b[0m\n\u001b[0;32m----> 2\u001b[0;31m \u001b[0mdfResults\u001b[0m\u001b[0;34m.\u001b[0m\u001b[0mhead\u001b[0m\u001b[0;34m(\u001b[0m\u001b[0;34m)\u001b[0m\u001b[0;34m\u001b[0m\u001b[0;34m\u001b[0m\u001b[0m\n\u001b[0m",
      "\u001b[0;31mNameError\u001b[0m: name 'dfResults' is not defined"
     ]
    }
   ],
   "source": [
    "# Checa o resultado do predict\n",
    "dfResults.head()"
   ]
  },
  {
   "cell_type": "code",
   "execution_count": null,
   "metadata": {
    "collapsed": false,
    "gather": {
     "logged": 1607916533916
    },
    "jupyter": {
     "outputs_hidden": false,
     "source_hidden": false
    },
    "nteract": {
     "transient": {
      "deleting": false
     }
    }
   },
   "outputs": [],
   "source": [
    "# WordCloud do Review\r\n",
    "tokens = []\r\n",
    "nltk.download('stopwords')\r\n",
    "stop_words = nltk.corpus.stopwords.words('portuguese')\r\n",
    "size = len(dfResults.index)\r\n",
    "for i in range(size):\r\n",
    "    text = dfResults.iloc[i].Review\r\n",
    "    for token in text.split():\r\n",
    "        if token not in stop_words:\r\n",
    "            tokens.append(token)\r\n",
    "plt.figure(figsize = (10,10)) \r\n",
    "wc = WordCloud(max_words = 2000 , width = 1600 , height = 800).generate(\" \".join(tokens))\r\n",
    "plt.title('WordCloud - Review')\r\n",
    "plt.legend()\r\n",
    "plt.imshow(wc , interpolation = 'bilinear')"
   ]
  },
  {
   "cell_type": "code",
   "execution_count": null,
   "metadata": {
    "collapsed": false,
    "gather": {
     "logged": 1607916544057
    },
    "jupyter": {
     "outputs_hidden": false,
     "source_hidden": false
    },
    "nteract": {
     "transient": {
      "deleting": false
     }
    }
   },
   "outputs": [],
   "source": [
    "# WordCloud do do Title\r\n",
    "plt.figure(figsize = (10,10)) \r\n",
    "wc = WordCloud(max_words = 2000 , width = 1600 , height = 800).generate(\" \".join(dfResults.Original))\r\n",
    "plt.title('WordCloud - Title')\r\n",
    "plt.legend()\r\n",
    "plt.imshow(wc , interpolation = 'bilinear')"
   ]
  },
  {
   "cell_type": "code",
   "execution_count": null,
   "metadata": {
    "collapsed": false,
    "gather": {
     "logged": 1607916545653
    },
    "jupyter": {
     "outputs_hidden": false,
     "source_hidden": false
    },
    "nteract": {
     "transient": {
      "deleting": false
     }
    }
   },
   "outputs": [],
   "source": [
    "# WordCloud do Predicted (y_test)\r\n",
    "plt.figure(figsize = (10,10)) \r\n",
    "wc = WordCloud(max_words = 2000 , width = 1600 , height = 800).generate(\" \".join(dfResults.Predicted))\r\n",
    "plt.title('WordCloud - Predicted')\r\n",
    "plt.legend()\r\n",
    "plt.imshow(wc , interpolation = 'bilinear')"
   ]
  },
  {
   "cell_type": "code",
   "execution_count": null,
   "metadata": {
    "collapsed": true,
    "gather": {
     "logged": 1607916554485
    },
    "jupyter": {
     "outputs_hidden": true,
     "source_hidden": false
    },
    "nteract": {
     "transient": {
      "deleting": false
     }
    }
   },
   "outputs": [],
   "source": [
    "# Cálculo da métrica NIST\n",
    "from tqdm.notebook import tqdm\n",
    "size = len(dfResults.index)\n",
    "with tqdm(total=size) as pbar:  \n",
    "  for i in range(size):\n",
    "    reference = dfResults.iloc[i].Original\n",
    "    candidate = dfResults.iloc[i].Predicted\n",
    "    if reference != '' and candidate != '':         \n",
    "            nist = sentence_nist([reference.split()], candidate.split(),1)  \n",
    "            dfResults.iloc[i,3] = nist\n",
    "    pbar.update(1)\n"
   ]
  },
  {
   "cell_type": "code",
   "execution_count": null,
   "metadata": {
    "collapsed": false,
    "gather": {
     "logged": 1607916554686
    },
    "jupyter": {
     "outputs_hidden": false,
     "source_hidden": false
    },
    "nteract": {
     "transient": {
      "deleting": false
     }
    }
   },
   "outputs": [],
   "source": [
    "# Relatório do NIST\r\n",
    "print(\"Métricas para o NIST\\n\")\r\n",
    "data = dfResults[dfResults['NIST'].notna()]['NIST'].values\r\n",
    "print(\"Minímo:\", round(np.min(data),3))\r\n",
    "m = np.mean(data)\r\n",
    "print(\"Média:\", round(m,3))\r\n",
    "print(\"Máximo:\", round(np.max(data),3))\r\n",
    "print(\"Média: Ponderada\", round(m/np.max(data),3))\r\n",
    "sdev = round(np.std(data),3)\r\n",
    "print(\"Desvio Padrão:\", round(sdev,3))\r\n",
    "cv = round((sdev/m)*100,3)\r\n",
    "print(\"% CV:\", cv, ' %\\n')\r\n",
    "\r\n",
    "aNIST = dfResults[dfResults['NIST'].notna()]['NIST'].values\r\n",
    "WordsaNIST = np.round(aNIST.astype(np.double))\r\n",
    "\r\n",
    "num_of_points = len(WordsaNIST)\r\n",
    "data = WordsaNIST\r\n",
    "fig, ax = plt.subplots()\r\n",
    "ax.hist(data,  edgecolor='black')\r\n",
    "ax.set_title(\"Histograma Métrica NIST\")\r\n",
    "ax.set_xlabel(\"Score NIST\")\r\n",
    "ax.set_ylabel(\"Percentagem de Frases\")\r\n",
    "ax.yaxis.set_major_formatter(ticker.PercentFormatter(xmax=len(data)))\r\n",
    "plt.show()"
   ]
  },
  {
   "cell_type": "code",
   "execution_count": null,
   "metadata": {
    "collapsed": true,
    "gather": {
     "logged": 1607916563699
    },
    "jupyter": {
     "outputs_hidden": true,
     "source_hidden": false
    },
    "nteract": {
     "transient": {
      "deleting": false
     }
    }
   },
   "outputs": [],
   "source": [
    "# Cáclculo da métrica BLEU\n",
    "err = 0\n",
    "from tqdm.notebook import tqdm\n",
    "size = len(dfResults.index)\n",
    "with tqdm(total=size) as pbar:  \n",
    "  for i in range(size):\n",
    "      reference = dfResults.iloc[i].Original\n",
    "      candidate = dfResults.iloc[i].Predicted\n",
    "      pbar.update(1)\n",
    "      if reference != '' and candidate != '':\n",
    "            cc = SmoothingFunction()\n",
    "            dfResults.iloc[i,4] = sentence_bleu([reference.split()], candidate.split(),smoothing_function=cc.method1)\n"
   ]
  },
  {
   "cell_type": "code",
   "execution_count": null,
   "metadata": {
    "collapsed": false,
    "gather": {
     "logged": 1607916563868
    },
    "jupyter": {
     "outputs_hidden": false,
     "source_hidden": false
    },
    "nteract": {
     "transient": {
      "deleting": false
     }
    }
   },
   "outputs": [],
   "source": [
    "# Relatório do BLEU\r\n",
    "print(\"Métricas para o BLEU\\n\")\r\n",
    "data = dfResults[dfResults['BLEU'].notna()]['BLEU'].values\r\n",
    "print(\"Minímo:\", round(np.min(data),3))\r\n",
    "m = np.mean(data)\r\n",
    "print(\"Média:\", round(m,3))\r\n",
    "print(\"Máximo:\", round(np.max(data),3))\r\n",
    "sdev = round(np.std(data),3)\r\n",
    "print(\"Desvio Padrão:\", round(sdev,3))\r\n",
    "cv = round((sdev/m)*100,3)\r\n",
    "print(\"% CV:\", cv, ' %\\n')\r\n",
    "aBLEU = dfResults[dfResults['BLEU'].notna()]['BLEU'].values\r\n",
    "WordsaBLEU = np.round(aBLEU.astype(np.double))\r\n",
    "num_of_points = len(WordsaBLEU)\r\n",
    "num_of_bins = 11\r\n",
    "data = WordsaBLEU\r\n",
    "fig, ax = plt.subplots()\r\n",
    "ax.hist(data, bins=[j/100 for j in range(0,110,10)], edgecolor='black')\r\n",
    "ax.set_title(\"Histograma dos Scores da Métrica BLEU\")\r\n",
    "ax.set_xlabel(\"Score BLEU\")\r\n",
    "ax.set_ylabel(\"Percentagem de Frases\")\r\n",
    "ax.yaxis.set_major_formatter(ticker.PercentFormatter(xmax=len(data)))\r\n",
    "plt.show()"
   ]
  },
  {
   "cell_type": "code",
   "execution_count": null,
   "metadata": {
    "collapsed": true,
    "gather": {
     "logged": 1607916577043
    },
    "jupyter": {
     "outputs_hidden": true,
     "source_hidden": false
    },
    "nteract": {
     "transient": {
      "deleting": false
     }
    }
   },
   "outputs": [],
   "source": [
    "# Cálculo da métrica METEOR\n",
    "err = 0\n",
    "from tqdm.notebook import tqdm\n",
    "size = len(dfResults.index)\n",
    "with tqdm(total=size) as pbar:  \n",
    "  for i in range(size):\n",
    "    reference = dfResults.iloc[i].Original\n",
    "    candidate = dfResults.iloc[i].Predicted\n",
    "    if reference != '' and candidate != '':\n",
    "            meteor = meteor_score([reference], candidate)  \n",
    "            dfResults.iloc[i,5] = meteor\n",
    "\n",
    "    pbar.update(1)"
   ]
  },
  {
   "cell_type": "code",
   "execution_count": null,
   "metadata": {
    "collapsed": false,
    "gather": {
     "logged": 1607916577212
    },
    "jupyter": {
     "outputs_hidden": false,
     "source_hidden": false
    },
    "nteract": {
     "transient": {
      "deleting": false
     }
    }
   },
   "outputs": [],
   "source": [
    "# Relatório do Meteor\n",
    "print(\"Métricas para o METEOR\\n\")\n",
    "data = dfResults[dfResults['METEOR'].notna()]['METEOR'].values\n",
    "print(\"Minímo:\", round(np.min(data),3))\n",
    "m = np.mean(data)\n",
    "print(\"Média:\", round(m,3))\n",
    "print(\"Máximo:\", round(np.max(data),3))\n",
    "sdev = round(np.std(data),3)\n",
    "print(\"Desvio Padrão:\", round(sdev,3))\n",
    "cv = round((sdev/m)*100,3)\n",
    "print(\"% CV:\", cv, ' %\\n')\n",
    "aMETEOR = dfResults[dfResults['METEOR'].notna()]['METEOR'].values\n",
    "WordsaMETEOR = np.round(aMETEOR.astype(np.double))\n",
    "num_of_points = len(WordsaMETEOR)\n",
    "num_of_bins = 11\n",
    "data = WordsaMETEOR\n",
    "fig, ax = plt.subplots()\n",
    "ax.hist(data, bins=[j/100 for j in range(0,110,10)], edgecolor='black')\n",
    "ax.set_title(\"Histograma dos Scores da Métrica METEOR\")\n",
    "ax.set_xlabel(\"Score METEOR\")\n",
    "ax.set_ylabel(\"Percentagem de Frases\")\n",
    "ax.yaxis.set_major_formatter(ticker.PercentFormatter(xmax=len(data)))\n",
    "plt.show()"
   ]
  },
  {
   "cell_type": "code",
   "execution_count": null,
   "metadata": {
    "collapsed": true,
    "gather": {
     "logged": 1607916577432
    },
    "jupyter": {
     "outputs_hidden": true,
     "source_hidden": false
    },
    "nteract": {
     "transient": {
      "deleting": false
     }
    }
   },
   "outputs": [],
   "source": [
    "bins = np.linspace(0, 1, 10)\r\n",
    "WordsaNISTh = WordsaNIST/np.max(WordsaNIST)\r\n",
    "WordsaBLEUh = WordsaBLEU/np.max(WordsaBLEU)\r\n",
    "WordsaMETEORh = WordsaMETEOR/np.max(WordsaMETEOR)\r\n",
    "fig, ax = plt.subplots()\r\n",
    "bins = np.linspace(0, 1, 10)\r\n",
    "ax.hist((WordsaNISTh,WordsaBLEUh,WordsaMETEORh), bins,  label=('NIST','BLEU','METEOR'))\r\n",
    "ax.legend(loc='upper right')\r\n",
    "ax.set_title(\"BiLSTM - Metrics Histogram (min-max normalization)\")\r\n",
    "ax.set_xlabel(\"Score (min-max normalization)\")\r\n",
    "ax.set_ylabel(\"Percentage of the phrases\")\r\n",
    "ax.yaxis.set_major_formatter(ticker.PercentFormatter(xmax=len(data)))\r\n",
    "plt.show()"
   ]
  },
  {
   "cell_type": "code",
   "execution_count": null,
   "metadata": {
    "collapsed": false,
    "gather": {
     "logged": 1607916613820
    },
    "jupyter": {
     "outputs_hidden": false,
     "source_hidden": false
    },
    "nteract": {
     "transient": {
      "deleting": false
     }
    }
   },
   "outputs": [],
   "source": [
    "# Analise de Tamanho do Title e do Predicted\n",
    "def dicionarios_size(dfResult):\n",
    "    Review = []\n",
    "    Original = []\n",
    "    fcOriginal = []\n",
    "    Predicted = []\n",
    "    fcPredicted = []\n",
    "    size = len(dfResult.index)\n",
    "    for i in range(size):\n",
    "        Review = Review + dfResult.iloc[i].Review.split()\n",
    "        Original = Original + dfResult.iloc[i].Original.split()\n",
    "        fcOriginal.append(len(dfResult.iloc[i].Original.split())) \n",
    "        Predicted = Predicted + dfResult.iloc[i].Predicted.split()\n",
    "        fcPredicted.append(len(dfResult.iloc[i].Predicted.split()))\n",
    "    return len(np.unique(Review)) , len(np.unique(Original)), len(np.unique(Predicted)), fcOriginal,fcPredicted\n",
    "\n",
    "r, o, p, fco,fcp = dicionarios_size(dfResults)"
   ]
  },
  {
   "cell_type": "code",
   "execution_count": null,
   "metadata": {
    "collapsed": false,
    "gather": {
     "logged": 1607916614299
    },
    "jupyter": {
     "outputs_hidden": false,
     "source_hidden": false
    },
    "nteract": {
     "transient": {
      "deleting": false
     }
    }
   },
   "outputs": [],
   "source": [
    "# Relatório das medidas de contagem de palabras\n",
    "Words = fco\n",
    "num_of_points = len(Words)\n",
    "num_of_bins = 20 \n",
    "data = Words\n",
    "fig, ax = plt.subplots()\n",
    "ax.hist(data, bins=[0,1,2,3,4,5,6,7,8,9,10,12,13,14,15], edgecolor='black')\n",
    "ax.set_title(\"Histograma de Palavras do Title\")\n",
    "ax.set_xlabel(\"Quantidade de Palavras\")\n",
    "ax.set_ylabel(\"Percentagem de Frases\")\n",
    "ax.yaxis.set_major_formatter(ticker.PercentFormatter(xmax=len(data)))\n",
    "plt.show()\n",
    "\n",
    "Words = fcp\n",
    "num_of_points = len(Words)\n",
    "num_of_bins = 20 \n",
    "data = Words\n",
    "fig, ax = plt.subplots()\n",
    "ax.hist(data, bins=[0,1,2,3,4,5,6,7,8,9,10,12,13,14,15], edgecolor='black')\n",
    "ax.set_title(\"Histograma de Palavras do Predicted\")\n",
    "ax.set_xlabel(\"Quantidade de Palavras\")\n",
    "ax.set_ylabel(\"Percentagem de Frases\")\n",
    "ax.yaxis.set_major_formatter(ticker.PercentFormatter(xmax=len(data)))\n",
    "plt.show()\n",
    "\n",
    "print(\"\\nTamanho de Dicionários\")\n",
    "print('Review: ' + str(r) + ' palavras \\nTitle: ' + str(o) + ' palavras \\nPredicted: ' + str(p)+ ' palavras')\n",
    "\n",
    "print(\"\\nMétricas para o Title (em palavras)\")\n",
    "print(\"Minímo:\", round(np.min(fco),3))\n",
    "m = np.mean(fco)\n",
    "print(\"Média:\", round(m,3))\n",
    "print(\"Máximo:\", round(np.max(fco),3))\n",
    "sdev = round(np.std(fco),3)\n",
    "print(\"Desvio Padrão:\", round(sdev,3))\n",
    "cvT = round((sdev/m)*100,3)\n",
    "print(\"% CV:\", cvT, ' %')\n",
    "\n",
    "print(\"\\nMétricas para o Predicted (em palavras)\")\n",
    "print(\"Minímo:\", round(np.min(fcp),3))\n",
    "m = np.mean(fcp)\n",
    "print(\"Média:\", round(m,3))\n",
    "print(\"Máximo:\", round(np.max(fcp),3))\n",
    "sdev = round(np.std(fcp),3)\n",
    "print(\"Desvio Padrão:\", round(sdev,3))\n",
    "cvP = round((sdev/m)*100,3)\n",
    "print(\"% CV:\", cvP, ' %\\n')\n",
    "\n",
    "print('Diferença no tamanho do dicionário do Title e do Predicted:',round(np.mean(o)-np.mean(p),4), 'palavras ou' , round((np.mean(o)-np.mean(p))/np.mean(p)*100,4),'%')\n",
    "print('Diferença no tamanho médio entre as frases do Title e do Predicted:',round(np.mean(fco)-np.mean(fcp),4), 'palavras ou' , round((np.mean(fco)-np.mean(fcp))/np.mean(fcp)*100,4),'%')\n",
    "print('Diferença no % CV Máquina entre o Title e do Predicted:',round(cvT-cvP,4), '% ou relativa:' , round((cvT-cvP)/cvP*100,4),'%\\n')"
   ]
  },
  {
   "cell_type": "code",
   "execution_count": null,
   "metadata": {
    "gather": {
     "logged": 1607916617351
    },
    "nteract": {
     "transient": {
      "deleting": false
     }
    }
   },
   "outputs": [],
   "source": [
    "# Exportação dos resultados do corpo de Teste (corpus, predicted e métricas)\n",
    "dfResults.to_csv('b2wCorpusFulldfResults.tsv', sep = '\\t',index = False)"
   ]
  },
  {
   "cell_type": "code",
   "execution_count": null,
   "metadata": {
    "gather": {
     "logged": 1607916617463
    },
    "nteract": {
     "transient": {
      "deleting": false
     }
    }
   },
   "outputs": [],
   "source": [
    "\n",
    "runEnd = datetime.now()\n",
    "runTime = (runEnd - runStart).total_seconds() / 60.0\n",
    "print(\"Run time elapsed:\",round(runTime,0),'minutes')\n"
   ]
  }
 ],
 "metadata": {
  "accelerator": "GPU",
  "colab": {
   "authorship_tag": "ABX9TyNaX1LSN/9lZ44SRsYSkx6u",
   "collapsed_sections": [],
   "mount_file_id": "1-J3rdJKqrI93QSG5KbuNjEYpf17LOloZ",
   "name": "NMT_marathi.ipynb",
   "provenance": []
  },
  "kernel_info": {
   "name": "ep3"
  },
  "kernelspec": {
   "display_name": "Python 3",
   "language": "python",
   "name": "python3"
  },
  "language_info": {
   "codemirror_mode": {
    "name": "ipython",
    "version": 3
   },
   "file_extension": ".py",
   "mimetype": "text/x-python",
   "name": "python",
   "nbconvert_exporter": "python",
   "pygments_lexer": "ipython3",
   "version": "3.8.5"
  },
  "nteract": {
   "version": "nteract-front-end@1.0.0"
  }
 },
 "nbformat": 4,
 "nbformat_minor": 4
}
